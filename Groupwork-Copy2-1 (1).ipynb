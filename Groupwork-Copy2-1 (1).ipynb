{
 "cells": [
  {
   "cell_type": "markdown",
   "metadata": {},
   "source": [
    "## Load packages and import data"
   ]
  },
  {
   "cell_type": "code",
   "execution_count": 3,
   "metadata": {
    "scrolled": false
   },
   "outputs": [],
   "source": [
    "import numpy\n",
    "import scipy\n",
    "import scipy.sparse\n",
    "\n",
    "from nltk.stem import PorterStemmer\n",
    "porter = PorterStemmer()\n",
    "\n",
    "from nltk.stem import LancasterStemmer\n",
    "lancaster = LancasterStemmer()\n",
    "\n",
    "from nltk.stem import WordNetLemmatizer\n",
    "wordnet_lemmatizer = WordNetLemmatizer()\n",
    "\n",
    "import csv\n",
    "file = open('dev.csv', encoding= \"utf8\")\n",
    "data = file.readlines()[1:]\n",
    "df = file.read() \n",
    "file.close()"
   ]
  },
  {
   "cell_type": "markdown",
   "metadata": {},
   "source": [
    "## Preprocess data"
   ]
  },
  {
   "cell_type": "code",
   "execution_count": 4,
   "metadata": {},
   "outputs": [],
   "source": [
    "def string_cleaning(text):\n",
    "    text = text.lower()\n",
    "    clean_string = \"\"\n",
    "    for a in text:\n",
    "        if (a >= 'a' and a <= 'z'):\n",
    "            clean_string += str(a)\n",
    "        elif ord(a) >= 48 and ord(a) <= 57:\n",
    "            clean_string += str(a)\n",
    "        else:\n",
    "            clean_string += \" \"\n",
    "    return(clean_string)\n",
    "\n",
    "ID = []\n",
    "paraID = []\n",
    "question = []\n",
    "for i in data:\n",
    "    ID.append(int(i[0:5]))\n",
    "    paraID.append(int(i[-6:-1])) # el vector paraID el volem en format int per poder-ho comparar amb les prediccions que obtenim\n",
    "    question.append(i[6:-7]) \n",
    "\n",
    "cleanText = [] # text per fer el tf idf\n",
    "for i in range(len(ID)):\n",
    "    a = string_cleaning(question[i])\n",
    "    cleanText.append(a)\n"
   ]
  },
  {
   "cell_type": "code",
   "execution_count": null,
   "metadata": {},
   "outputs": [],
   "source": [
    "## Run only one of the next 4 cells (without lemmitization - lemmitization - Porter - Lancaster)"
   ]
  },
  {
   "cell_type": "code",
   "execution_count": null,
   "metadata": {},
   "outputs": [],
   "source": [
    "## without lemmitization/stemming -> 0.9159\n",
    "stopwords = ['a', 'and', 'the', 'is', 'in', 'on', 'at','what', 'why', 'how'] #these stopwords don't add any accuracy\n",
    "\n",
    "cleanText2 = []\n",
    "for text in cleanText:\n",
    "    sentence = []\n",
    "    for word in text.split():\n",
    "        if word not in stopwords:\n",
    "            sentence.append(word)\n",
    "    cleanText2.append(\" \".join(sentence))\n",
    "        \n",
    "print(cleanText[0:5])\n",
    "print()        \n",
    "print(cleanText2[0:5])"
   ]
  },
  {
   "cell_type": "code",
   "execution_count": null,
   "metadata": {},
   "outputs": [],
   "source": [
    "## Lemmatization -> 0.9382\n",
    "\n",
    "cleanText2 = []\n",
    "for text in cleanText:\n",
    "    sentence = []\n",
    "    for word in text.split():\n",
    "        sentence.append(wordnet_lemmatizer.lemmatize(word))\n",
    "    cleanText2.append(\" \".join(sentence))\n",
    "        \n",
    "print(cleanText[0:5])\n",
    "print()        \n",
    "print(cleanText2[0:5])"
   ]
  },
  {
   "cell_type": "code",
   "execution_count": 5,
   "metadata": {},
   "outputs": [
    {
     "name": "stdout",
     "output_type": "stream",
     "text": [
      "['what is the value of pi ', 'how can i attract hyderabad boys ', 'why do people get mad ', 'does fasting improve brain function ', 'what is your opinion on the venus project ']\n",
      "\n",
      "['what is the valu of pi', 'how can i attract hyderabad boy', 'whi do peopl get mad', 'doe fast improv brain function', 'what is your opinion on the venu project']\n"
     ]
    }
   ],
   "source": [
    "## PorterStemmer -> 0.9533\n",
    "\n",
    "cleanText2 = []\n",
    "for text in cleanText:\n",
    "    sentence = []\n",
    "    for word in text.split():\n",
    "        sentence.append(porter.stem(word))\n",
    "    cleanText2.append(\" \".join(sentence))\n",
    "        \n",
    "print(cleanText[0:5])\n",
    "print()        \n",
    "print(cleanText2[0:5])"
   ]
  },
  {
   "cell_type": "code",
   "execution_count": 4,
   "metadata": {},
   "outputs": [
    {
     "name": "stdout",
     "output_type": "stream",
     "text": [
      "['what is the value of pi ', 'how can i attract hyderabad boys ', 'why do people get mad ', 'does fasting improve brain function ', 'what is your opinion on the venus project ']\n",
      "\n",
      "['what is the valu of pi', 'how can i attract hyderabad boy', 'why do peopl get mad', 'doe fast improv brain funct', 'what is yo opin on the ven project']\n"
     ]
    }
   ],
   "source": [
    "## LancasterStemmer -> 0.9502\n",
    "cleanText2 = []\n",
    "for text in cleanText:\n",
    "    sentence = []\n",
    "    for word in text.split():\n",
    "        sentence.append(lancaster.stem(word))\n",
    "    cleanText2.append(\" \".join(sentence))\n",
    "        \n",
    "print(cleanText[0:5])\n",
    "print()        \n",
    "print(cleanText2[0:5])"
   ]
  },
  {
   "cell_type": "code",
   "execution_count": null,
   "metadata": {},
   "outputs": [],
   "source": []
  },
  {
   "cell_type": "code",
   "execution_count": null,
   "metadata": {},
   "outputs": [],
   "source": []
  },
  {
   "cell_type": "code",
   "execution_count": 6,
   "metadata": {},
   "outputs": [],
   "source": [
    "from sklearn.feature_extraction.text import TfidfVectorizer\n",
    "vectorizer = TfidfVectorizer()"
   ]
  },
  {
   "cell_type": "code",
   "execution_count": 7,
   "metadata": {},
   "outputs": [],
   "source": [
    "matrix = vectorizer.fit_transform(cleanText2)"
   ]
  },
  {
   "cell_type": "code",
   "execution_count": 8,
   "metadata": {},
   "outputs": [
    {
     "name": "stdout",
     "output_type": "stream",
     "text": [
      "(10000, 6311)\n"
     ]
    }
   ],
   "source": [
    "print (matrix.shape)\n",
    "#Now we have the TF-IDF matrix (tfidf_matrix) for each document (the number of rows of the matrix) with 11 tf-idf terms \n",
    "#(the number of columns from the matrix), we can calculate the Cosine Similarity between the first document (“The sky is blue”)\n",
    "#with each of the other documents of the se\n",
    "#http://blog.christianperone.com/2013/09/machine-learning-cosine-similarity-for-vector-space-models-part-iii/"
   ]
  },
  {
   "cell_type": "code",
   "execution_count": 10,
   "metadata": {},
   "outputs": [
    {
     "name": "stdout",
     "output_type": "stream",
     "text": [
      "Identity diagonal\n",
      "[[1.         0.         0.         ... 0.06000092 0.         0.12126646]\n",
      " [0.         1.         0.         ... 0.         0.         0.        ]\n",
      " [0.         0.         1.         ... 0.         0.05740334 0.        ]\n",
      " ...\n",
      " [0.06000092 0.         0.         ... 1.         0.         0.07319576]\n",
      " [0.         0.         0.05740334 ... 0.         1.         0.        ]\n",
      " [0.12126646 0.         0.         ... 0.07319576 0.         1.        ]]\n",
      "\n",
      "Diagonal filled with zeros\n",
      "[[0.         0.         0.         ... 0.06000092 0.         0.12126646]\n",
      " [0.         0.         0.         ... 0.         0.         0.        ]\n",
      " [0.         0.         0.         ... 0.         0.05740334 0.        ]\n",
      " ...\n",
      " [0.06000092 0.         0.         ... 0.         0.         0.07319576]\n",
      " [0.         0.         0.05740334 ... 0.         0.         0.        ]\n",
      " [0.12126646 0.         0.         ... 0.07319576 0.         0.        ]]\n"
     ]
    }
   ],
   "source": [
    "from sklearn.metrics.pairwise import cosine_similarity\n",
    "out = cosine_similarity(matrix, matrix)\n",
    "print(\"Identity diagonal\")\n",
    "print(out)\n",
    "numpy.fill_diagonal(out,0) #fill the diagonal with zeros in order to ignore the cosine similarity between each sentence and itself\n",
    "print()\n",
    "print(\"Diagonal filled with zeros\")\n",
    "print(out)"
   ]
  },
  {
   "cell_type": "code",
   "execution_count": 11,
   "metadata": {},
   "outputs": [
    {
     "name": "stdout",
     "output_type": "stream",
     "text": [
      "(10000, 10000)\n",
      "float64\n",
      "<class 'numpy.ndarray'>\n",
      "<class 'numpy.ndarray'>\n",
      "[0.67626664 0.95066292 0.81544221 ... 0.81893016 0.88936119 0.89708172]\n"
     ]
    }
   ],
   "source": [
    "print(out.shape)\n",
    "print(out.dtype)\n",
    "print(type(out))\n",
    "print(type(out[1]))# out és una  array d'arrays\n",
    "out.max(axis=1) # maximum per one dimension (each row)\n",
    "print(out.max(axis=1))\n",
    "pred = out.argmax(axis=1) # index of maximum per one dimension (each row)"
   ]
  },
  {
   "cell_type": "code",
   "execution_count": 12,
   "metadata": {},
   "outputs": [],
   "source": [
    "pred_para_id = pred + 10000\n",
    "para_id_np = numpy.array(paraID)\n",
    "\n",
    "#accuracy = (numpy.equal(pred_para_id, para_id_np))/len(para_id_np) # elementwise comparison in python is not yet implemented\n",
    "#accuracy = (pred_para_id == para_id_np))/len(para_id_np)\n",
    "# instead of doing it in numpy, we will define an accuracy function that contains a for loop through the elements of the vector\n",
    "\n",
    "pred_id = list(pred_para_id)\n",
    "\n",
    "def accuracy (pred, para): \n",
    "    TP = 0 \n",
    "    for i in range(len(pred)):\n",
    "        if pred[i] == para[i]:\n",
    "            TP += 1\n",
    "    return TP/len(pred)\n"
   ]
  },
  {
   "cell_type": "code",
   "execution_count": 13,
   "metadata": {},
   "outputs": [
    {
     "name": "stdout",
     "output_type": "stream",
     "text": [
      "[17156, 16551, 12493, 15057, 16764]\n",
      "[16250, 16551, 12493, 15057, 16764]\n"
     ]
    },
    {
     "data": {
      "text/plain": [
       "0.9533"
      ]
     },
     "execution_count": 13,
     "metadata": {},
     "output_type": "execute_result"
    }
   ],
   "source": [
    "print(pred_id[0:5])\n",
    "print(paraID[0:5])\n",
    "\n",
    "accuracy(pred_id, paraID)"
   ]
  },
  {
   "cell_type": "code",
   "execution_count": null,
   "metadata": {},
   "outputs": [],
   "source": []
  }
 ],
 "metadata": {
  "kernelspec": {
   "display_name": "Python 3",
   "language": "python",
   "name": "python3"
  },
  "language_info": {
   "codemirror_mode": {
    "name": "ipython",
    "version": 3
   },
   "file_extension": ".py",
   "mimetype": "text/x-python",
   "name": "python",
   "nbconvert_exporter": "python",
   "pygments_lexer": "ipython3",
   "version": "3.6.4"
  }
 },
 "nbformat": 4,
 "nbformat_minor": 2
}
